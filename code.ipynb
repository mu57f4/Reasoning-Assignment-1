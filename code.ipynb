{
 "cells": [
  {
   "cell_type": "code",
   "execution_count": 141,
   "metadata": {},
   "outputs": [],
   "source": [
    "import re"
   ]
  },
  {
   "cell_type": "code",
   "execution_count": 142,
   "metadata": {},
   "outputs": [],
   "source": [
    "samples = [\n",
    "    'FAx(P(x) -> ~M(x))',\n",
    "    'FAxFAyFAz(M(x) -> ~ M(y) & ~M(z))',\n",
    "    '~(P(x) | Q(x))',\n",
    "    '~FAx(P(x))',\n",
    "    '~~P(x)'\n",
    "]"
   ]
  },
  {
   "cell_type": "markdown",
   "metadata": {},
   "source": [
    "## Step 1: Elimiate_implication"
   ]
  },
  {
   "cell_type": "code",
   "execution_count": 143,
   "metadata": {},
   "outputs": [],
   "source": [
    "expression = '(P | Q) -> (R)'\n",
    "quantifiers_filter = re.compile('([A-z][A-Z].)')\n",
    "def eliminate_implication(expression):\n",
    "    quants = re.findall(quantifiers_filter, expression)\n",
    "    sentence = re.sub(r'([A-z][A-Z].)', '', expression)\n",
    "    parts = re.split('->', sentence)\n",
    "    if len(quants) == 0:\n",
    "        new_sentence = '~' + parts[0] +'|'+ parts[1]\n",
    "    else:\n",
    "        new_sentence = parts[0][0] + '~'+ parts[0][1:] +'|'+ parts[1]\n",
    "    return ''.join(quants) + new_sentence"
   ]
  },
  {
   "cell_type": "code",
   "execution_count": 144,
   "metadata": {},
   "outputs": [
    {
     "data": {
      "text/plain": [
       "'FAxFAyFAz(~M(x) | ~ M(y) & ~M(z))'"
      ]
     },
     "execution_count": 144,
     "metadata": {},
     "output_type": "execute_result"
    }
   ],
   "source": [
    "eliminate_implication(samples[1])"
   ]
  },
  {
   "cell_type": "markdown",
   "metadata": {},
   "source": [
    "## 2: Move negation inside"
   ]
  },
  {
   "cell_type": "code",
   "execution_count": 185,
   "metadata": {},
   "outputs": [],
   "source": [
    "expression =  '~(P(x) | Q(x))'\n",
    "def move_negation_inside(expression):\n",
    "    expression = expression.replace('~~', '')\n",
    "    quants = re.findall(quantifiers_filter, expression)\n",
    "    expression = re.sub(r'([A-z][A-Z].)', '', expression)\n",
    "    print(expression)\n",
    "\n",
    "    while '~(' in expression:\n",
    "        start_idx = expression.index('~(')\n",
    "        end_idx = start_idx + 1\n",
    "        bracket_counter = 0\n",
    "        for i in range(start_idx + 1, len(expression)):\n",
    "            if expression[i] == '(':\n",
    "                bracket_counter += 1\n",
    "            elif expression[i] == ')':\n",
    "                bracket_counter -= 1\n",
    "                if bracket_counter == 0:\n",
    "                    end_idx = i\n",
    "                    break\n",
    "\n",
    "        sub_expr = expression[start_idx + 2:end_idx]\n",
    "        opreators_list = re.findall('\\ \\| |\\ & ', sub_expr)\n",
    "        if len(opreators_list) == 0:\n",
    "            new_sentence = '~' + expression\n",
    "        elif opreators_list[0] == ' | ':\n",
    "            opposite_opreator_list = [' & ']\n",
    "            parts = re.split('\\ \\| |\\ & ', sub_expr)\n",
    "            for i in range(len(parts)):\n",
    "                if parts[i][0] == '~' or parts[i][1] == '~':\n",
    "                    parts[i].replace('~', '')\n",
    "                else:\n",
    "                    parts[i] = '~'+ parts[i]\n",
    "            new_sentence = parts[0] +opposite_opreator_list[0]+ parts[1]\n",
    "\n",
    "        elif opreators_list[0] == ' & ':\n",
    "            opposite_opreator_list = [' | ']\n",
    "            parts = re.split('\\ \\| |\\ & ', sub_expr)\n",
    "            for i in range(len(parts)):\n",
    "                if parts[i][0] == '~' or parts[i][1] == '~':\n",
    "                    parts[i].replace('~', '')\n",
    "                else:\n",
    "                    parts[i] = '~'+ parts[i]\n",
    "            new_sentence = parts[0] +opposite_opreator_list[0]+ parts[1]\n",
    "        expression = expression[:start_idx] + new_sentence + expression[end_idx+1:]\n",
    "    \n",
    "    quants_map = {'FA': 'TE', 'TE': 'FA'}\n",
    "    opposite_quants_list = [quants_map[op] if op in quants_map else op for op in quants]\n",
    "\n",
    "    expression = expression.replace('~FA', 'TE')\n",
    "    expression = expression.replace('~TE', 'FA')\n",
    "    return ''.join(opposite_quants_list) + expression"
   ]
  },
  {
   "cell_type": "code",
   "execution_count": null,
   "metadata": {},
   "outputs": [],
   "source": [
    "exp = '~(P(x))'\n",
    "move_negation_inside(exp)"
   ]
  },
  {
   "cell_type": "code",
   "execution_count": null,
   "metadata": {},
   "outputs": [],
   "source": []
  }
 ],
 "metadata": {
  "kernelspec": {
   "display_name": "Python 3",
   "language": "python",
   "name": "python3"
  },
  "language_info": {
   "codemirror_mode": {
    "name": "ipython",
    "version": 3
   },
   "file_extension": ".py",
   "mimetype": "text/x-python",
   "name": "python",
   "nbconvert_exporter": "python",
   "pygments_lexer": "ipython3",
   "version": "3.11.3"
  }
 },
 "nbformat": 4,
 "nbformat_minor": 2
}
